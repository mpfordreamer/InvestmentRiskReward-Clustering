{
  "cells": [
    {
      "cell_type": "markdown",
      "metadata": {
        "id": "fKADPWcFKlj3"
      },
      "source": [
        "# **1. Import Library**"
      ]
    },
    {
      "cell_type": "markdown",
      "metadata": {
        "id": "LgA3ERnVn84N"
      },
      "source": [
        "Pada tahap ini, Anda perlu mengimpor beberapa pustaka (library) Python yang dibutuhkan untuk analisis data dan pembangunan model machine learning."
      ]
    },
    {
      "cell_type": "code",
      "execution_count": 1,
      "metadata": {
        "id": "BlmvjLY9M4Yj"
      },
      "outputs": [],
      "source": [
        "import pandas as pd\n",
        "import numpy as np\n",
        "from sklearn.model_selection import train_test_split, cross_val_score, GridSearchCV\n",
        "from sklearn.preprocessing import RobustScaler\n",
        "from sklearn.feature_selection import SelectKBest, f_classif\n",
        "from sklearn.ensemble import RandomForestClassifier\n",
        "from sklearn.svm import SVC\n",
        "from sklearn.linear_model import LogisticRegression\n",
        "from imblearn.over_sampling import SMOTE\n",
        "from sklearn.metrics import accuracy_score, precision_score, recall_score, f1_score, classification_report, confusion_matrix, ConfusionMatrixDisplay\n",
        "import matplotlib.pyplot as plt\n"
      ]
    },
    {
      "cell_type": "markdown",
      "metadata": {
        "id": "f3YIEnAFKrKL"
      },
      "source": [
        "# **2. Memuat Dataset dari Hasil Clustering**"
      ]
    },
    {
      "cell_type": "markdown",
      "metadata": {
        "id": "Ey3ItwTen_7E"
      },
      "source": [
        "Memuat dataset hasil clustering dari file CSV ke dalam variabel DataFrame."
      ]
    },
    {
      "cell_type": "code",
      "execution_count": 2,
      "metadata": {
        "id": "GHCGNTyrM5fS"
      },
      "outputs": [
        {
          "name": "stdout",
          "output_type": "stream",
          "text": [
            "Data loaded successfully.\n"
          ]
        },
        {
          "data": {
            "text/html": [
              "<div>\n",
              "<style scoped>\n",
              "    .dataframe tbody tr th:only-of-type {\n",
              "        vertical-align: middle;\n",
              "    }\n",
              "\n",
              "    .dataframe tbody tr th {\n",
              "        vertical-align: top;\n",
              "    }\n",
              "\n",
              "    .dataframe thead th {\n",
              "        text-align: right;\n",
              "    }\n",
              "</style>\n",
              "<table border=\"1\" class=\"dataframe\">\n",
              "  <thead>\n",
              "    <tr style=\"text-align: right;\">\n",
              "      <th></th>\n",
              "      <th>Growth Rate (%)</th>\n",
              "      <th>Valuation (USD)</th>\n",
              "      <th>Investment_Risk</th>\n",
              "      <th>Investor_Concentration</th>\n",
              "      <th>ROI</th>\n",
              "      <th>Growth_Efficiency</th>\n",
              "      <th>Value_Creation</th>\n",
              "      <th>Startup Name</th>\n",
              "      <th>Industry</th>\n",
              "      <th>Funding Rounds</th>\n",
              "      <th>Investment Amount (USD)</th>\n",
              "      <th>Valuation (USD).1</th>\n",
              "      <th>Number of Investors</th>\n",
              "      <th>Country</th>\n",
              "      <th>Year Founded</th>\n",
              "      <th>Growth Rate (%).1</th>\n",
              "      <th>cluster</th>\n",
              "      <th>risk_return</th>\n",
              "    </tr>\n",
              "  </thead>\n",
              "  <tbody>\n",
              "    <tr>\n",
              "      <th>0</th>\n",
              "      <td>77.10</td>\n",
              "      <td>6.621448e+09</td>\n",
              "      <td>0.201643</td>\n",
              "      <td>0.004033</td>\n",
              "      <td>3.959270</td>\n",
              "      <td>5.774563e-08</td>\n",
              "      <td>0.099185</td>\n",
              "      <td>Startup_1</td>\n",
              "      <td>Blockchain</td>\n",
              "      <td>8</td>\n",
              "      <td>1.335166e+09</td>\n",
              "      <td>6.621448e+09</td>\n",
              "      <td>50</td>\n",
              "      <td>Germany</td>\n",
              "      <td>2012</td>\n",
              "      <td>77.10</td>\n",
              "      <td>0</td>\n",
              "      <td>Low risk low return</td>\n",
              "    </tr>\n",
              "    <tr>\n",
              "      <th>1</th>\n",
              "      <td>105.52</td>\n",
              "      <td>8.363214e+09</td>\n",
              "      <td>0.332587</td>\n",
              "      <td>0.009239</td>\n",
              "      <td>2.006730</td>\n",
              "      <td>3.793639e-08</td>\n",
              "      <td>0.083520</td>\n",
              "      <td>Startup_2</td>\n",
              "      <td>SaaS</td>\n",
              "      <td>2</td>\n",
              "      <td>2.781498e+09</td>\n",
              "      <td>8.363214e+09</td>\n",
              "      <td>36</td>\n",
              "      <td>UK</td>\n",
              "      <td>2006</td>\n",
              "      <td>105.52</td>\n",
              "      <td>0</td>\n",
              "      <td>Low risk low return</td>\n",
              "    </tr>\n",
              "    <tr>\n",
              "      <th>2</th>\n",
              "      <td>190.47</td>\n",
              "      <td>1.548270e+10</td>\n",
              "      <td>0.213725</td>\n",
              "      <td>0.005480</td>\n",
              "      <td>3.678921</td>\n",
              "      <td>5.756064e-08</td>\n",
              "      <td>0.119972</td>\n",
              "      <td>Startup_3</td>\n",
              "      <td>EdTech</td>\n",
              "      <td>10</td>\n",
              "      <td>3.309032e+09</td>\n",
              "      <td>1.548270e+10</td>\n",
              "      <td>39</td>\n",
              "      <td>Singapore</td>\n",
              "      <td>2016</td>\n",
              "      <td>190.47</td>\n",
              "      <td>0</td>\n",
              "      <td>Low risk low return</td>\n",
              "    </tr>\n",
              "    <tr>\n",
              "      <th>3</th>\n",
              "      <td>9.44</td>\n",
              "      <td>1.268253e+10</td>\n",
              "      <td>0.319352</td>\n",
              "      <td>0.007258</td>\n",
              "      <td>2.131337</td>\n",
              "      <td>2.330751e-09</td>\n",
              "      <td>0.071167</td>\n",
              "      <td>Startup_4</td>\n",
              "      <td>Fintech</td>\n",
              "      <td>5</td>\n",
              "      <td>4.050196e+09</td>\n",
              "      <td>1.268253e+10</td>\n",
              "      <td>44</td>\n",
              "      <td>France</td>\n",
              "      <td>2021</td>\n",
              "      <td>9.44</td>\n",
              "      <td>0</td>\n",
              "      <td>Low risk low return</td>\n",
              "    </tr>\n",
              "    <tr>\n",
              "      <th>4</th>\n",
              "      <td>192.00</td>\n",
              "      <td>6.887966e+09</td>\n",
              "      <td>0.238834</td>\n",
              "      <td>0.004976</td>\n",
              "      <td>3.187009</td>\n",
              "      <td>1.167116e-07</td>\n",
              "      <td>0.087229</td>\n",
              "      <td>Startup_5</td>\n",
              "      <td>EdTech</td>\n",
              "      <td>9</td>\n",
              "      <td>1.645080e+09</td>\n",
              "      <td>6.887966e+09</td>\n",
              "      <td>48</td>\n",
              "      <td>India</td>\n",
              "      <td>2011</td>\n",
              "      <td>192.00</td>\n",
              "      <td>0</td>\n",
              "      <td>Low risk low return</td>\n",
              "    </tr>\n",
              "  </tbody>\n",
              "</table>\n",
              "</div>"
            ],
            "text/plain": [
              "   Growth Rate (%)  Valuation (USD)  Investment_Risk  Investor_Concentration  \\\n",
              "0            77.10     6.621448e+09         0.201643                0.004033   \n",
              "1           105.52     8.363214e+09         0.332587                0.009239   \n",
              "2           190.47     1.548270e+10         0.213725                0.005480   \n",
              "3             9.44     1.268253e+10         0.319352                0.007258   \n",
              "4           192.00     6.887966e+09         0.238834                0.004976   \n",
              "\n",
              "        ROI  Growth_Efficiency  Value_Creation Startup Name    Industry  \\\n",
              "0  3.959270       5.774563e-08        0.099185    Startup_1  Blockchain   \n",
              "1  2.006730       3.793639e-08        0.083520    Startup_2        SaaS   \n",
              "2  3.678921       5.756064e-08        0.119972    Startup_3      EdTech   \n",
              "3  2.131337       2.330751e-09        0.071167    Startup_4     Fintech   \n",
              "4  3.187009       1.167116e-07        0.087229    Startup_5      EdTech   \n",
              "\n",
              "   Funding Rounds  Investment Amount (USD)  Valuation (USD).1  \\\n",
              "0               8             1.335166e+09       6.621448e+09   \n",
              "1               2             2.781498e+09       8.363214e+09   \n",
              "2              10             3.309032e+09       1.548270e+10   \n",
              "3               5             4.050196e+09       1.268253e+10   \n",
              "4               9             1.645080e+09       6.887966e+09   \n",
              "\n",
              "   Number of Investors    Country  Year Founded  Growth Rate (%).1  cluster  \\\n",
              "0                   50    Germany          2012              77.10        0   \n",
              "1                   36         UK          2006             105.52        0   \n",
              "2                   39  Singapore          2016             190.47        0   \n",
              "3                   44     France          2021               9.44        0   \n",
              "4                   48      India          2011             192.00        0   \n",
              "\n",
              "           risk_return  \n",
              "0  Low risk low return  \n",
              "1  Low risk low return  \n",
              "2  Low risk low return  \n",
              "3  Low risk low return  \n",
              "4  Low risk low return  "
            ]
          },
          "metadata": {},
          "output_type": "display_data"
        },
        {
          "name": "stdout",
          "output_type": "stream",
          "text": [
            "Dataset shape: (5000, 18)\n",
            "\n",
            "Number of features (features): 18\n",
            "\n",
            "Number of samples (rows): 5000\n",
            "\n",
            "Feature names:\n",
            "['Growth Rate (%)', 'Valuation (USD)', 'Investment_Risk', 'Investor_Concentration', 'ROI', 'Growth_Efficiency', 'Value_Creation', 'Startup Name', 'Industry', 'Funding Rounds', 'Investment Amount (USD)', 'Valuation (USD).1', 'Number of Investors', 'Country', 'Year Founded', 'Growth Rate (%).1', 'cluster', 'risk_return']\n"
          ]
        }
      ],
      "source": [
        "# Load the dataset\n",
        "filename = 'Dataset_inisiasi.csv'\n",
        "\n",
        "try:\n",
        "    # Use pd.read_csv() for CSV files\n",
        "    df = pd.read_csv(filename)\n",
        "    print(\"Data loaded successfully.\")\n",
        "    display(df.head())  \n",
        "    \n",
        "    # Get the shape of the dataset\n",
        "    dataset_shape = df.shape\n",
        "    print(f\"Dataset shape: {dataset_shape}\\n\")\n",
        "    \n",
        "    # Get the number of features (columns)\n",
        "    num_features = len(df.columns)\n",
        "    print(f\"Number of features (features): {num_features}\\n\")\n",
        "    \n",
        "    # Get the number of samples (rows)\n",
        "    num_samples = len(df)\n",
        "    print(f\"Number of samples (rows): {num_samples}\\n\")\n",
        "    \n",
        "    # Display the column names (feature names)\n",
        "    print(\"Feature names:\")\n",
        "    print(df.columns.tolist())\n",
        "\n",
        "except FileNotFoundError:\n",
        "    print(f\"File not found: {filename}\")\n",
        "except Exception as e:\n",
        "    print(f\"An error occurred: {e}\")"
      ]
    },
    {
      "cell_type": "code",
      "execution_count": null,
      "metadata": {},
      "outputs": [
        {
          "name": "stdout",
          "output_type": "stream",
          "text": [
            "Data loaded successfully.\n",
            "Dataset shape: (5000, 18)\n",
            "\n",
            "Number of features (features): 18\n",
            "\n",
            "Number of samples (rows): 5000\n",
            "\n",
            "Feature names:\n",
            "['Growth Rate (%)', 'Valuation (USD)', 'Investment_Risk', 'Investor_Concentration', 'ROI', 'Growth_Efficiency', 'Value_Creation', 'Startup Name', 'Industry', 'Funding Rounds', 'Investment Amount (USD)', 'Valuation (USD).1', 'Number of Investors', 'Country', 'Year Founded', 'Growth Rate (%).1', 'cluster', 'risk_return']\n",
            "\n",
            "Feature names after dropping unwanted columns:\n",
            "['Growth Rate (%)', 'Valuation (USD)', 'Investment_Risk', 'Investor_Concentration', 'ROI', 'Growth_Efficiency', 'Value_Creation', 'Startup Name', 'Industry', 'Funding Rounds', 'Investment Amount (USD)', 'Number of Investors', 'Country', 'Year Founded', 'cluster', 'risk_return']\n",
            "\n",
            "Dataset after dropping unwanted columns:\n"
          ]
        },
        {
          "data": {
            "text/html": [
              "<div>\n",
              "<style scoped>\n",
              "    .dataframe tbody tr th:only-of-type {\n",
              "        vertical-align: middle;\n",
              "    }\n",
              "\n",
              "    .dataframe tbody tr th {\n",
              "        vertical-align: top;\n",
              "    }\n",
              "\n",
              "    .dataframe thead th {\n",
              "        text-align: right;\n",
              "    }\n",
              "</style>\n",
              "<table border=\"1\" class=\"dataframe\">\n",
              "  <thead>\n",
              "    <tr style=\"text-align: right;\">\n",
              "      <th></th>\n",
              "      <th>Growth Rate (%)</th>\n",
              "      <th>Valuation (USD)</th>\n",
              "      <th>Investment_Risk</th>\n",
              "      <th>Investor_Concentration</th>\n",
              "      <th>ROI</th>\n",
              "      <th>Growth_Efficiency</th>\n",
              "      <th>Value_Creation</th>\n",
              "      <th>Startup Name</th>\n",
              "      <th>Industry</th>\n",
              "      <th>Funding Rounds</th>\n",
              "      <th>Investment Amount (USD)</th>\n",
              "      <th>Number of Investors</th>\n",
              "      <th>Country</th>\n",
              "      <th>Year Founded</th>\n",
              "      <th>cluster</th>\n",
              "      <th>risk_return</th>\n",
              "    </tr>\n",
              "  </thead>\n",
              "  <tbody>\n",
              "    <tr>\n",
              "      <th>0</th>\n",
              "      <td>77.10</td>\n",
              "      <td>6.621448e+09</td>\n",
              "      <td>0.201643</td>\n",
              "      <td>0.004033</td>\n",
              "      <td>3.959270</td>\n",
              "      <td>5.774563e-08</td>\n",
              "      <td>0.099185</td>\n",
              "      <td>Startup_1</td>\n",
              "      <td>Blockchain</td>\n",
              "      <td>8</td>\n",
              "      <td>1.335166e+09</td>\n",
              "      <td>50</td>\n",
              "      <td>Germany</td>\n",
              "      <td>2012</td>\n",
              "      <td>0</td>\n",
              "      <td>Low risk low return</td>\n",
              "    </tr>\n",
              "    <tr>\n",
              "      <th>1</th>\n",
              "      <td>105.52</td>\n",
              "      <td>8.363214e+09</td>\n",
              "      <td>0.332587</td>\n",
              "      <td>0.009239</td>\n",
              "      <td>2.006730</td>\n",
              "      <td>3.793639e-08</td>\n",
              "      <td>0.083520</td>\n",
              "      <td>Startup_2</td>\n",
              "      <td>SaaS</td>\n",
              "      <td>2</td>\n",
              "      <td>2.781498e+09</td>\n",
              "      <td>36</td>\n",
              "      <td>UK</td>\n",
              "      <td>2006</td>\n",
              "      <td>0</td>\n",
              "      <td>Low risk low return</td>\n",
              "    </tr>\n",
              "    <tr>\n",
              "      <th>2</th>\n",
              "      <td>190.47</td>\n",
              "      <td>1.548270e+10</td>\n",
              "      <td>0.213725</td>\n",
              "      <td>0.005480</td>\n",
              "      <td>3.678921</td>\n",
              "      <td>5.756064e-08</td>\n",
              "      <td>0.119972</td>\n",
              "      <td>Startup_3</td>\n",
              "      <td>EdTech</td>\n",
              "      <td>10</td>\n",
              "      <td>3.309032e+09</td>\n",
              "      <td>39</td>\n",
              "      <td>Singapore</td>\n",
              "      <td>2016</td>\n",
              "      <td>0</td>\n",
              "      <td>Low risk low return</td>\n",
              "    </tr>\n",
              "    <tr>\n",
              "      <th>3</th>\n",
              "      <td>9.44</td>\n",
              "      <td>1.268253e+10</td>\n",
              "      <td>0.319352</td>\n",
              "      <td>0.007258</td>\n",
              "      <td>2.131337</td>\n",
              "      <td>2.330751e-09</td>\n",
              "      <td>0.071167</td>\n",
              "      <td>Startup_4</td>\n",
              "      <td>Fintech</td>\n",
              "      <td>5</td>\n",
              "      <td>4.050196e+09</td>\n",
              "      <td>44</td>\n",
              "      <td>France</td>\n",
              "      <td>2021</td>\n",
              "      <td>0</td>\n",
              "      <td>Low risk low return</td>\n",
              "    </tr>\n",
              "    <tr>\n",
              "      <th>4</th>\n",
              "      <td>192.00</td>\n",
              "      <td>6.887966e+09</td>\n",
              "      <td>0.238834</td>\n",
              "      <td>0.004976</td>\n",
              "      <td>3.187009</td>\n",
              "      <td>1.167116e-07</td>\n",
              "      <td>0.087229</td>\n",
              "      <td>Startup_5</td>\n",
              "      <td>EdTech</td>\n",
              "      <td>9</td>\n",
              "      <td>1.645080e+09</td>\n",
              "      <td>48</td>\n",
              "      <td>India</td>\n",
              "      <td>2011</td>\n",
              "      <td>0</td>\n",
              "      <td>Low risk low return</td>\n",
              "    </tr>\n",
              "  </tbody>\n",
              "</table>\n",
              "</div>"
            ],
            "text/plain": [
              "   Growth Rate (%)  Valuation (USD)  Investment_Risk  Investor_Concentration  \\\n",
              "0            77.10     6.621448e+09         0.201643                0.004033   \n",
              "1           105.52     8.363214e+09         0.332587                0.009239   \n",
              "2           190.47     1.548270e+10         0.213725                0.005480   \n",
              "3             9.44     1.268253e+10         0.319352                0.007258   \n",
              "4           192.00     6.887966e+09         0.238834                0.004976   \n",
              "\n",
              "        ROI  Growth_Efficiency  Value_Creation Startup Name    Industry  \\\n",
              "0  3.959270       5.774563e-08        0.099185    Startup_1  Blockchain   \n",
              "1  2.006730       3.793639e-08        0.083520    Startup_2        SaaS   \n",
              "2  3.678921       5.756064e-08        0.119972    Startup_3      EdTech   \n",
              "3  2.131337       2.330751e-09        0.071167    Startup_4     Fintech   \n",
              "4  3.187009       1.167116e-07        0.087229    Startup_5      EdTech   \n",
              "\n",
              "   Funding Rounds  Investment Amount (USD)  Number of Investors    Country  \\\n",
              "0               8             1.335166e+09                   50    Germany   \n",
              "1               2             2.781498e+09                   36         UK   \n",
              "2              10             3.309032e+09                   39  Singapore   \n",
              "3               5             4.050196e+09                   44     France   \n",
              "4               9             1.645080e+09                   48      India   \n",
              "\n",
              "   Year Founded  cluster          risk_return  \n",
              "0          2012        0  Low risk low return  \n",
              "1          2006        0  Low risk low return  \n",
              "2          2016        0  Low risk low return  \n",
              "3          2021        0  Low risk low return  \n",
              "4          2011        0  Low risk low return  "
            ]
          },
          "metadata": {},
          "output_type": "display_data"
        },
        {
          "name": "stdout",
          "output_type": "stream",
          "text": [
            "\n",
            "Data with unwanted columns dropped has been saved back to Dataset_inisiasi.csv\n"
          ]
        }
      ],
      "source": [
        "try:\n",
        "    # Use pd.read_csv() for CSV files\n",
        "    df = pd.read_csv(filename)\n",
        "    print(\"Data loaded successfully.\")\n",
        "    \n",
        "    # Display the column names (feature names)\n",
        "    print(\"Feature names:\")\n",
        "    print(df.columns.tolist())\n",
        "\n",
        "    # Drop the unwanted columns\n",
        "    columns_to_drop = ['Growth Rate (%).1', 'Valuation (USD).1']\n",
        "    df.drop(columns=columns_to_drop, inplace=True)\n",
        "\n",
        "    # Display the column names after dropping unwanted columns\n",
        "    print(\"\\nFeature names after dropping unwanted columns:\")\n",
        "    print(df.columns.tolist())\n",
        "\n",
        "    # Display the first few rows of the DataFrame after dropping columns\n",
        "    print(\"\\nDataset after dropping unwanted columns:\")\n",
        "    display(df.head())\n",
        "\n",
        "    # Save the DataFrame back to the same CSV file\n",
        "    df.to_csv(filename, index=False)\n",
        "    print(f\"\\nData with unwanted columns dropped has been saved back to {filename}\")\n",
        "\n",
        "except FileNotFoundError:\n",
        "    print(f\"File not found: {filename}\")\n",
        "except Exception as e:\n",
        "    print(f\"An error occurred: {e}\")"
      ]
    },
    {
      "cell_type": "markdown",
      "metadata": {},
      "source": [
        "#### **Tujuan Utama**\n",
        "Kode ini bertujuan untuk memanipulasi, dan menyimpan kembali dataset dengan langkah-langkah berikut:\n",
        "\n",
        "1. **Mengolah Dataset:**\n",
        "   - Menampilkan nama-nama fitur asli untuk verifikasi.\n",
        "   - Menghapus kolom duplikat (`Growth Rate (%).1` dan `Valuation (USD).1`) guna membersihkan dataset.\n",
        "   - Memastikan kolom yang relevan tetap ada dan menampilkan nama kolom setelah penghapusan."
      ]
    },
    {
      "cell_type": "markdown",
      "metadata": {
        "id": "KkPem5eWL2UP"
      },
      "source": [
        "# **3. Data Splitting**"
      ]
    },
    {
      "cell_type": "markdown",
      "metadata": {
        "id": "YYj1rl_JNI9Y"
      },
      "source": [
        "Tahap Data Splitting bertujuan untuk memisahkan dataset menjadi dua bagian: data latih (training set) dan data uji (test set)."
      ]
    },
    {
      "cell_type": "code",
      "execution_count": 4,
      "metadata": {
        "id": "OubAW-7ONKVj"
      },
      "outputs": [
        {
          "name": "stdout",
          "output_type": "stream",
          "text": [
            "Selected Features: ['Growth Rate (%)', 'Investment Amount (USD)', 'Valuation (USD)', 'Number of Investors', 'Investor_Concentration', 'Growth_Efficiency', 'Value_Creation']\n"
          ]
        },
        {
          "name": "stdout",
          "output_type": "stream",
          "text": [
            "SMOTE resampling completed.\n",
            "Data splitting completed.\n",
            "Number of training samples: 11968\n",
            "Number of testing samples: 2993\n"
          ]
        }
      ],
      "source": [
        "# Pilih semua fitur potensial\n",
        "X = df[[\n",
        "    'Growth Rate (%)', 'Investment Amount (USD)', 'Valuation (USD)',\n",
        "    'Number of Investors', 'Investment_Risk', 'Investor_Concentration',\n",
        "    'ROI', 'Growth_Efficiency', 'Value_Creation'\n",
        "]]\n",
        "y = df['risk_return']\n",
        "\n",
        "# Feature Selection dengan SelectKBest\n",
        "selector = SelectKBest(score_func=f_classif, k=7)\n",
        "X_selected = selector.fit_transform(X, y)\n",
        "selected_features = X.columns[selector.get_support()].tolist()\n",
        "print(\"Selected Features:\", selected_features)\n",
        "\n",
        "# Use SMOTE for oversampling\n",
        "smote = SMOTE(random_state=42, k_neighbors=1)\n",
        "X_resampled, y_resampled = smote.fit_resample(X_selected, y)\n",
        "print(\"SMOTE resampling completed.\")\n",
        "\n",
        "# Split the dataset\n",
        "X_train, X_test, y_train, y_test = train_test_split(\n",
        "    X_resampled, y_resampled, test_size=0.2, random_state=42, stratify=y_resampled\n",
        ")\n",
        "print(\"Data splitting completed.\")\n",
        "print(f\"Number of training samples: {X_train.shape[0]}\")\n",
        "print(f\"Number of testing samples: {X_test.shape[0]}\")"
      ]
    },
    {
      "cell_type": "markdown",
      "metadata": {
        "id": "IVPbB03CMhTT"
      },
      "source": [
        "# **4. Membangun Model Klasifikasi**\n"
      ]
    },
    {
      "cell_type": "markdown",
      "metadata": {
        "id": "Ned1pL9zMmBK"
      },
      "source": [
        "## **a. Membangun Model Klasifikasi**"
      ]
    },
    {
      "cell_type": "markdown",
      "metadata": {
        "id": "WAWzPOE4Nkti"
      },
      "source": [
        "Setelah memilih algoritma klasifikasi yang sesuai, langkah selanjutnya adalah melatih model menggunakan data latih.\n",
        "\n",
        "Berikut adalah rekomendasi tahapannya.\n",
        "1. Pilih algoritma klasifikasi yang sesuai, seperti Logistic Regression, Decision Tree, Random Forest, atau K-Nearest Neighbors (KNN).\n",
        "2. Latih model menggunakan data latih."
      ]
    },
    {
      "cell_type": "code",
      "execution_count": 5,
      "metadata": {
        "id": "4JYxBe87NLDk"
      },
      "outputs": [],
      "source": [
        "# Inisialisasi model Random Forest\n",
        "rf_classifier = RandomForestClassifier(random_state=42)\n",
        "\n",
        "# Melatih model pada data pelatihan\n",
        "rf_classifier.fit(X_train, y_train)\n",
        "\n",
        "# Prediksi pada data pengujian\n",
        "y_pred = rf_classifier.predict(X_test)"
      ]
    },
    {
      "cell_type": "markdown",
      "metadata": {
        "id": "seYoHNY3XU1y"
      },
      "source": [
        "Tulis narasi atau penjelasan algoritma yang Anda gunakan."
      ]
    },
    {
      "cell_type": "markdown",
      "metadata": {
        "id": "ergzChZFEL-O"
      },
      "source": [
        "## **b. Evaluasi Model Klasifikasi**"
      ]
    },
    {
      "cell_type": "markdown",
      "metadata": {
        "id": "zOm68u-7NpLT"
      },
      "source": [
        "Berikut adalah **rekomendasi** tahapannya.\n",
        "1. Lakukan prediksi menggunakan data uji.\n",
        "2. Hitung metrik evaluasi seperti Accuracy dan F1-Score (Opsional: Precision dan Recall).\n",
        "3. Buat confusion matrix untuk melihat detail prediksi benar dan salah."
      ]
    },
    {
      "cell_type": "code",
      "execution_count": 6,
      "metadata": {
        "id": "tMq4QAssNLip"
      },
      "outputs": [
        {
          "name": "stdout",
          "output_type": "stream",
          "text": [
            "Accuracy: 1.0000\n",
            "Precision: 1.0000\n",
            "Recall: 1.0000\n",
            "F1 Score: 1.0000\n",
            "Classification Report:\n",
            "                           precision    recall  f1-score   support\n",
            "\n",
            "    High risk high return       1.00      1.00      1.00       997\n",
            "      Low risk low return       1.00      1.00      1.00       998\n",
            "Medium risk medium return       1.00      1.00      1.00       998\n",
            "\n",
            "                 accuracy                           1.00      2993\n",
            "                macro avg       1.00      1.00      1.00      2993\n",
            "             weighted avg       1.00      1.00      1.00      2993\n",
            "\n"
          ]
        }
      ],
      "source": [
        "# Evaluasi model\n",
        "accuracy = accuracy_score(y_test, y_pred)\n",
        "precision = precision_score(y_test, y_pred, average='weighted')\n",
        "recall = recall_score(y_test, y_pred, average='weighted')\n",
        "f1 = f1_score(y_test, y_pred, average='weighted')\n",
        "\n",
        "# Print hasil evaluasi\n",
        "print(f\"Accuracy: {accuracy:.4f}\")\n",
        "print(f\"Precision: {precision:.4f}\")\n",
        "print(f\"Recall: {recall:.4f}\")\n",
        "print(f\"F1 Score: {f1:.4f}\")\n",
        "\n",
        "# Print laporan klasifikasi detail\n",
        "print(\"Classification Report:\")\n",
        "print(classification_report(y_test, y_pred))"
      ]
    },
    {
      "cell_type": "markdown",
      "metadata": {
        "id": "H4_9OwrsXZlz"
      },
      "source": [
        "Tulis hasil evaluasi algoritma yang digunakan, jika Anda menggunakan 2 algoritma, maka bandingkan hasilnya."
      ]
    },
    {
      "cell_type": "markdown",
      "metadata": {
        "id": "ph9yIYDXEPuB"
      },
      "source": [
        "## **c. Tuning Model Klasifikasi (Optional)**"
      ]
    },
    {
      "cell_type": "markdown",
      "metadata": {
        "id": "-Bikx3LINv5e"
      },
      "source": [
        "Gunakan GridSearchCV, RandomizedSearchCV, atau metode lainnya untuk mencari kombinasi hyperparameter terbaik"
      ]
    },
    {
      "cell_type": "code",
      "execution_count": 7,
      "metadata": {
        "id": "winbFzb8NL95"
      },
      "outputs": [
        {
          "name": "stdout",
          "output_type": "stream",
          "text": [
            "\n",
            "Training RandomForest...\n",
            "\n",
            "Best Parameters for RandomForest:\n",
            "{'max_depth': None, 'min_samples_split': 2, 'n_estimators': 100}\n",
            "\n",
            "Cross-validation Score: 1.0000 (+/- 0.0000)\n",
            "\n",
            "Feature Importance for RandomForest:\n",
            "                   feature  importance\n",
            "5        Growth_Efficiency    0.399255\n",
            "1  Investment Amount (USD)    0.268451\n",
            "2          Valuation (USD)    0.200922\n",
            "0          Growth Rate (%)    0.064095\n",
            "4   Investor_Concentration    0.032961\n",
            "6           Value_Creation    0.021192\n",
            "3      Number of Investors    0.013124\n",
            "\n",
            "Training SVM...\n",
            "\n",
            "Best Parameters for SVM:\n",
            "{'C': 10, 'kernel': 'linear'}\n",
            "\n",
            "Cross-validation Score: 0.9997 (+/- 0.0008)\n",
            "\n",
            "Training LogisticRegression...\n",
            "\n",
            "Best Parameters for LogisticRegression:\n",
            "{'C': 10, 'solver': 'lbfgs'}\n",
            "\n",
            "Cross-validation Score: 0.9991 (+/- 0.0009)\n"
          ]
        }
      ],
      "source": [
        "# Initialize RobustScaler\n",
        "scaler = RobustScaler()\n",
        "\n",
        "# Fit and transform data for SVM and Logistic Regression models\n",
        "X_train_scaled_svm_lr = scaler.fit_transform(X_train)\n",
        "X_test_scaled_svm_lr = scaler.transform(X_test)\n",
        "\n",
        "# Do not scale data for Random Forest model\n",
        "X_train_scaled_rf = X_train\n",
        "X_test_scaled_rf = X_test\n",
        "\n",
        "models = {\n",
        "    'RandomForest': {\n",
        "        'model': RandomForestClassifier(random_state=42),\n",
        "        'params': {\n",
        "            'n_estimators': [100, 200],\n",
        "            'max_depth': [None, 10, 20],\n",
        "            'min_samples_split': [2, 5]\n",
        "        },\n",
        "        'X_train_scaled': X_train_scaled_rf,\n",
        "        'X_test_scaled': X_test_scaled_rf\n",
        "    },\n",
        "    'SVM': {\n",
        "        'model': SVC(random_state=42),\n",
        "        'params': {\n",
        "            'C': [0.1, 1, 10],\n",
        "            'kernel': ['linear', 'rbf']\n",
        "        },\n",
        "        'X_train_scaled': X_train_scaled_svm_lr,\n",
        "        'X_test_scaled': X_test_scaled_svm_lr\n",
        "    },\n",
        "    'LogisticRegression': {\n",
        "        'model': LogisticRegression(random_state=42, max_iter=1000),\n",
        "        'params': {\n",
        "            'C': [0.1, 1, 10],\n",
        "            'solver': ['liblinear', 'lbfgs']\n",
        "        },\n",
        "        'X_train_scaled': X_train_scaled_svm_lr,\n",
        "        'X_test_scaled': X_test_scaled_svm_lr\n",
        "    }\n",
        "}\n",
        "\n",
        "def train_and_evaluate_models(models, y_train, y_test):\n",
        "    results = {}\n",
        "    best_model_name = None\n",
        "    best_cv_score = -1\n",
        "    \n",
        "    for name, model_info in models.items():\n",
        "        print(f\"\\nTraining {name}...\")\n",
        "        \n",
        "        # GridSearchCV with k-fold cross-validation (k=10)\n",
        "        grid_search = GridSearchCV(\n",
        "            model_info['model'],\n",
        "            model_info['params'],\n",
        "            cv=10,\n",
        "            scoring='f1_weighted',\n",
        "            n_jobs=-1\n",
        "        )\n",
        "        \n",
        "        # Fit model\n",
        "        grid_search.fit(model_info['X_train_scaled'], y_train)\n",
        "        \n",
        "        # Cross-validation with k=10\n",
        "        cv_scores = cross_val_score(\n",
        "            grid_search.best_estimator_,\n",
        "            model_info['X_train_scaled'], y_train,\n",
        "            cv=10,\n",
        "            scoring='f1_weighted'\n",
        "        )\n",
        "        \n",
        "        # Store results\n",
        "        results[name] = {\n",
        "            'best_params': grid_search.best_params_,\n",
        "            'cv_scores_mean': cv_scores.mean(),\n",
        "            'cv_scores_std': cv_scores.std(),\n",
        "            'model': grid_search.best_estimator_\n",
        "        }\n",
        "        \n",
        "        # Print results\n",
        "        print(f\"\\nBest Parameters for {name}:\")\n",
        "        print(grid_search.best_params_)\n",
        "        print(f\"\\nCross-validation Score: {cv_scores.mean():.4f} (+/- {cv_scores.std() * 2:.4f})\")\n",
        "        \n",
        "        # Feature importance for models that support it\n",
        "        if hasattr(grid_search.best_estimator_, 'feature_importances_'):\n",
        "            importances = pd.DataFrame({\n",
        "                'feature': selected_features,\n",
        "                'importance': grid_search.best_estimator_.feature_importances_\n",
        "            }).sort_values('importance', ascending=False)\n",
        "            print(f\"\\nFeature Importance for {name}:\")\n",
        "            print(importances)\n",
        "        \n",
        "        # Check if this model has the highest cross-validation score\n",
        "        if cv_scores.mean() > best_cv_score:\n",
        "            best_cv_score = cv_scores.mean()\n",
        "            best_model_name = name\n",
        "    \n",
        "    return results, best_model_name\n",
        "\n",
        "# Evaluate all models\n",
        "results, best_model_name = train_and_evaluate_models(models, y_train, y_test)"
      ]
    },
    {
      "cell_type": "code",
      "execution_count": 8,
      "metadata": {},
      "outputs": [
        {
          "name": "stdout",
          "output_type": "stream",
          "text": [
            "\n",
            "Best Model: RandomForest\n",
            "Best Cross-validation Score: 1.0000\n"
          ]
        }
      ],
      "source": [
        "def find_best_model(results):\n",
        "    best_score = -1\n",
        "    best_model = None\n",
        "    \n",
        "    for name, result in results.items():\n",
        "        if result['cv_scores_mean'] > best_score:\n",
        "            best_score = result['cv_scores_mean']\n",
        "            best_model = name\n",
        "    \n",
        "    return best_model, best_score\n",
        "\n",
        "best_model, best_score = find_best_model(results)\n",
        "print(f\"\\nBest Model: {best_model}\")\n",
        "print(f\"Best Cross-validation Score: {best_score:.4f}\")"
      ]
    },
    {
      "cell_type": "markdown",
      "metadata": {},
      "source": [
        "### Analisis Performa Model Random Forest untuk Klasifikasi Risk-Return\n",
        "\n",
        "#### 1. Evaluasi Model Terbaik\n",
        "**Random Forest terpilih dengan performa terbaik:**\n",
        "- Cross-validation Score: 1.0000\n",
        "- Konsistensi: Sempurna di semua fold validasi\n",
        "- Stabilitas: Tidak ada variasi antar validasi\n",
        "\n",
        "#### 2. Interpretasi Skor\n",
        "**Karakteristik Performa:**\n",
        "- Akurasi 100% dalam cross-validation\n",
        "- Pemisahan kategori risk-return yang sempurna\n",
        "- Konsistensi prediksi maksimal\n",
        "- Berpotensi Overfitting karena Label pada dataset jumlahnya tidak seimbang"
      ]
    },
    {
      "cell_type": "markdown",
      "metadata": {
        "id": "hE7pqlEPEYzI"
      },
      "source": [
        "## **d. Evaluasi Model Klasifikasi setelah Tuning (Optional)**"
      ]
    },
    {
      "cell_type": "markdown",
      "metadata": {
        "id": "feaPESoeN0zz"
      },
      "source": [
        "Berikut adalah rekomendasi tahapannya.\n",
        "1. Gunakan model dengan hyperparameter terbaik.\n",
        "2. Hitung ulang metrik evaluasi untuk melihat apakah ada peningkatan performa."
      ]
    },
    {
      "cell_type": "code",
      "execution_count": 9,
      "metadata": {
        "id": "HTXZRvEeNMb1"
      },
      "outputs": [
        {
          "name": "stdout",
          "output_type": "stream",
          "text": [
            "\n",
            "Evaluation Metrics for Random Forest Model:\n",
            "Accuracy: 1.0000\n",
            "Precision: 1.0000\n",
            "Recall: 1.0000\n",
            "F1 Score: 1.0000\n",
            "\n",
            "Detailed Classification Report:\n",
            "                           precision    recall  f1-score   support\n",
            "\n",
            "    High risk high return       1.00      1.00      1.00       997\n",
            "      Low risk low return       1.00      1.00      1.00       998\n",
            "Medium risk medium return       1.00      1.00      1.00       998\n",
            "\n",
            "                 accuracy                           1.00      2993\n",
            "                macro avg       1.00      1.00      1.00      2993\n",
            "             weighted avg       1.00      1.00      1.00      2993\n",
            "\n"
          ]
        },
        {
          "data": {
            "image/png": "[encoded data removed]",
            "text/plain": [
              "<Figure size 640x480 with 2 Axes>"
            ]
          },
          "metadata": {},
          "output_type": "display_data"
        }
      ],
      "source": [
        "# Extract the best Random Forest model from the results\n",
        "best_rf_model = results['RandomForest']['model']\n",
        "\n",
        "# Predict on the test set\n",
        "y_pred = best_rf_model.predict(X_test)\n",
        "\n",
        "# Calculate evaluation metrics\n",
        "accuracy = accuracy_score(y_test, y_pred)\n",
        "precision = precision_score(y_test, y_pred, average='weighted')\n",
        "recall = recall_score(y_test, y_pred, average='weighted')\n",
        "f1 = f1_score(y_test, y_pred, average='weighted')\n",
        "\n",
        "# Print the evaluation metrics\n",
        "print(\"\\nEvaluation Metrics for Random Forest Model:\")\n",
        "print(f\"Accuracy: {accuracy:.4f}\")\n",
        "print(f\"Precision: {precision:.4f}\")\n",
        "print(f\"Recall: {recall:.4f}\")\n",
        "print(f\"F1 Score: {f1:.4f}\")\n",
        "\n",
        "# Print the detailed classification report\n",
        "print(\"\\nDetailed Classification Report:\")\n",
        "print(classification_report(y_test, y_pred))\n",
        "\n",
        "# Calculate the confusion matrix\n",
        "cm = confusion_matrix(y_test, y_pred)\n",
        "\n",
        "# Create a ConfusionMatrixDisplay object\n",
        "disp = ConfusionMatrixDisplay(confusion_matrix=cm, display_labels=best_rf_model.classes_)\n",
        "\n",
        "# Plot the confusion matrix\n",
        "disp.plot(cmap=plt.cm.Blues)\n",
        "plt.title('Confusion Matrix for Random Forest Model')\n",
        "plt.show()"
      ]
    },
    {
      "cell_type": "markdown",
      "metadata": {
        "id": "ZRsOdm4uEgAW"
      },
      "source": [
        "## **e. Analisis Hasil Evaluasi Model Klasifikasi**"
      ]
    },
    {
      "cell_type": "markdown",
      "metadata": {
        "id": "Hm3BhSi6N4_l"
      },
      "source": [
        "### Analisis Performa Model Klasifikasi Risk-Return dan Rekomendasi Penyeimbangan Data\n",
        "\n",
        "#### 1. Evaluasi Hasil Klasifikasi\n",
        "\n",
        "**Performa Model Random Forest:**\n",
        "- **Akurasi:** 1.0000 (100%)\n",
        "- **Precision & Recall:** 1.0000 untuk semua kategori\n",
        "- **Cross-validation Score:** 1.0000 (±0.0000)\n",
        "\n",
        "**Confusion Matrix:**\n",
        "- High Risk-High Return: 997 prediksi benar\n",
        "- Low Risk-Low Return: 998 prediksi benar  \n",
        "- Medium Risk-Medium Return: 998 prediksi benar\n",
        "- Tidak ada misklasifikasi antar kategori\n",
        "\n",
        "#### 2. Analisis Feature Importance\n",
        "1. **Kontributor Utama:**\n",
        "   - Growth_Efficiency (39.93%)\n",
        "   - Investment Amount (26.85%)\n",
        "   - Valuation (20.09%)\n",
        "\n",
        "2. **Kontributor Sekunder:**\n",
        "   - Growth Rate (6.41%)\n",
        "   - Investor_Concentration (3.30%)\n",
        "   - Value_Creation (2.12%)\n",
        "   - Number of Investors (1.31%)\n",
        "\n",
        "#### 3. Identifikasi Masalah\n",
        "\n",
        "**A. Ketidakseimbangan Data:**\n",
        "- Dominasi kategori Low Risk-Low Return\n",
        "- Keterbatasan data High dan Medium Risk yang menyebabkan bias dalam prediksi\n",
        "\n",
        "**B. Indikasi Overfitting:**\n",
        "- Performa sempurna (100%) yang mengindikasikan Overfitting\n",
        "- Cross-validation tanpa variasi\n",
        "\n",
        "#### 4. Rekomendasi Pengembangan Data\n",
        "\n",
        "1. **Strategi Pengumpulan Data:**\n",
        "   - Target minimal 1000 sampel data per kategori\n",
        "   - Fokus pada Label High Risk-High Return dan Medium Risk-Medium Return\n"
      ]
    }
  ],
  "metadata": {
    "colab": {
      "provenance": []
    },
    "kernelspec": {
      "display_name": "base",
      "language": "python",
      "name": "python3"
    },
    "language_info": {
      "codemirror_mode": {
        "name": "ipython",
        "version": 3
      },
      "file_extension": ".py",
      "mimetype": "text/x-python",
      "name": "python",
      "nbconvert_exporter": "python",
      "pygments_lexer": "ipython3",
      "version": "3.11.7"
    }
  },
  "nbformat": 4,
  "nbformat_minor": 0
}
